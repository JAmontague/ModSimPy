{
 "cells": [
  {
   "cell_type": "markdown",
   "metadata": {},
   "source": [
    "# Project 1 Deliverable Snapshot"
   ]
  },
  {
   "cell_type": "markdown",
   "metadata": {},
   "source": [
    "By Jonathan Montague and Becca Suchower"
   ]
  },
  {
   "cell_type": "markdown",
   "metadata": {},
   "source": [
    "Question: Currently, polar bears are a vulnerable species, meaning that they are in danger of becoming an endangered species.  The decline in polar bear population has been linked to climate change.  If global temperatures continue to rise, at what temperature will polar bears become endangered?"
   ]
  },
  {
   "cell_type": "markdown",
   "metadata": {},
   "source": [
    "# Initialization of Jupyter"
   ]
  },
  {
   "cell_type": "code",
   "execution_count": 28,
   "metadata": {},
   "outputs": [],
   "source": [
    "# Configure Jupyter so figures appear in the notebook\n",
    "%matplotlib inline\n",
    "\n",
    "# Configure Jupyter to display the assigned value after an assignment\n",
    "%config InteractiveShell.ast_node_interactivity='last_expr_or_assign'\n",
    "\n",
    "# import functions from the modsim.py module\n",
    "from modsim import *\n",
    "\n",
    "from pandas import read_csv"
   ]
  },
  {
   "cell_type": "markdown",
   "metadata": {},
   "source": [
    "# Polar Bear Population Data"
   ]
  },
  {
   "cell_type": "markdown",
   "metadata": {},
   "source": [
    "We used the Official PBSG Polar Bear Population Estimates graph for our population data.  It contained seven data points, ranging from 1980-2013.\n",
    "\n",
    "Source: https://polarbearscience.files.wordpress.com/2014/02/crockford_polarbearscience-1981-2013_fig11.jpg"
   ]
  },
  {
   "cell_type": "code",
   "execution_count": 29,
   "metadata": {},
   "outputs": [
    {
     "data": {
      "text/html": [
       "<div>\n",
       "<style scoped>\n",
       "    .dataframe tbody tr th:only-of-type {\n",
       "        vertical-align: middle;\n",
       "    }\n",
       "\n",
       "    .dataframe tbody tr th {\n",
       "        vertical-align: top;\n",
       "    }\n",
       "\n",
       "    .dataframe thead th {\n",
       "        text-align: right;\n",
       "    }\n",
       "</style>\n",
       "<table border=\"1\" class=\"dataframe\">\n",
       "  <thead>\n",
       "    <tr style=\"text-align: right;\">\n",
       "      <th></th>\n",
       "      <th>0</th>\n",
       "    </tr>\n",
       "  </thead>\n",
       "  <tbody>\n",
       "    <tr>\n",
       "      <th>1980</th>\n",
       "      <td>22000</td>\n",
       "    </tr>\n",
       "    <tr>\n",
       "      <th>1992</th>\n",
       "      <td>25000</td>\n",
       "    </tr>\n",
       "    <tr>\n",
       "      <th>1997</th>\n",
       "      <td>24500</td>\n",
       "    </tr>\n",
       "    <tr>\n",
       "      <th>2001</th>\n",
       "      <td>23000</td>\n",
       "    </tr>\n",
       "    <tr>\n",
       "      <th>2005</th>\n",
       "      <td>22000</td>\n",
       "    </tr>\n",
       "    <tr>\n",
       "      <th>2009</th>\n",
       "      <td>20000</td>\n",
       "    </tr>\n",
       "    <tr>\n",
       "      <th>2013</th>\n",
       "      <td>18000</td>\n",
       "    </tr>\n",
       "  </tbody>\n",
       "</table>\n",
       "</div>"
      ],
      "text/plain": [
       "          0\n",
       "1980  22000\n",
       "1992  25000\n",
       "1997  24500\n",
       "2001  23000\n",
       "2005  22000\n",
       "2009  20000\n",
       "2013  18000"
      ]
     },
     "execution_count": 29,
     "metadata": {},
     "output_type": "execute_result"
    }
   ],
   "source": [
    "# polar bear population\n",
    "pop = [22000, 25000, 24500, 23000, 22000, 20000, 18000];\n",
    "\n",
    "# year at which population data was collected\n",
    "year = [1980, 1992, 1997, 2001, 2005, 2009, 2013];\n",
    "\n",
    "# creates a DataFrame table with the polar bear population and the year the population was estimated\n",
    "pPopTable = DataFrame(data=pop, index=year)\n"
   ]
  },
  {
   "cell_type": "code",
   "execution_count": 30,
   "metadata": {},
   "outputs": [
    {
     "data": {
      "image/png": "[encoded data removed]",
      "text/plain": [
       "<Figure size 432x288 with 1 Axes>"
      ]
     },
     "metadata": {},
     "output_type": "display_data"
    }
   ],
   "source": [
    "plot(year, pop)\n",
    "decorate(xlabel='Year', \n",
    "             ylabel='Polar Bear Pop.',\n",
    "        title='Polar Bear Population from 1980-2013')"
   ]
  },
  {
   "cell_type": "markdown",
   "metadata": {},
   "source": [
    "# Temperature Data"
   ]
  },
  {
   "cell_type": "markdown",
   "metadata": {},
   "source": [
    "The temperature data illustrates the average global temperature anomaly from 1880 to 2017 in degrees Celsius.  The anomaly values are relative to 1951-1980 average temperatures.  \n",
    "\n",
    "Source: https://climate.nasa.gov/vital-signs/global-temperature/"
   ]
  },
  {
   "cell_type": "code",
   "execution_count": 31,
   "metadata": {},
   "outputs": [
    {
     "data": {
      "text/plain": [
       "array([1880., 1881., 1882., 1883., 1884., 1885., 1886., 1887., 1888.,\n",
       "       1889., 1890., 1891., 1892., 1893., 1894., 1895., 1896., 1897.,\n",
       "       1898., 1899., 1900., 1901., 1902., 1903., 1904., 1905., 1906.,\n",
       "       1907., 1908., 1909., 1910., 1911., 1912., 1913., 1914., 1915.,\n",
       "       1916., 1917., 1918., 1919., 1920., 1921., 1922., 1923., 1924.,\n",
       "       1925., 1926., 1927., 1928., 1929., 1930., 1931., 1932., 1933.,\n",
       "       1934., 1935., 1936., 1937., 1938., 1939., 1940., 1941., 1942.,\n",
       "       1943., 1944., 1945., 1946., 1947., 1948., 1949., 1950., 1951.,\n",
       "       1952., 1953., 1954., 1955., 1956., 1957., 1958., 1959., 1960.,\n",
       "       1961., 1962., 1963., 1964., 1965., 1966., 1967., 1968., 1969.,\n",
       "       1970., 1971., 1972., 1973., 1974., 1975., 1976., 1977., 1978.,\n",
       "       1979., 1980., 1981., 1982., 1983., 1984., 1985., 1986., 1987.,\n",
       "       1988., 1989., 1990., 1991., 1992., 1993., 1994., 1995., 1996.,\n",
       "       1997., 1998., 1999., 2000., 2001., 2002., 2003., 2004., 2005.,\n",
       "       2006., 2007., 2008., 2009., 2010., 2011., 2012., 2013., 2014.,\n",
       "       2015., 2016., 2017.])"
      ]
     },
     "execution_count": 31,
     "metadata": {},
     "output_type": "execute_result"
    }
   ],
   "source": [
    "# Temperature Function Curve\n",
    "# year for which average temperature anomalies were recorded\n",
    "aYear = linrange(1880,2018,1)"
   ]
  },
  {
   "cell_type": "code",
   "execution_count": 32,
   "metadata": {},
   "outputs": [],
   "source": [
    "# average temperature anomalies\n",
    "aTemp = [-0.19, -0.1, -0.1, -0.19, -0.28, -0.31, -0.32, -0.35, -0.18, -0.11, -0.37, -0.24, -0.27, -0.32, -0.32, \n",
    "         -0.22, -0.11, -0.12, -0.28, -0.18, -0.09, -0.15, -0.3, -0.39, -0.49, -0.28, -0.23, -0.4, -0.44, -0.48,\n",
    "         -0.44, -0.43, -0.36, -0.35, -0.16, -0.12, -0.33, -0.43, -0.28, -0.27, -0.25, -0.17, -0.27, -0.24, -0.25,\n",
    "         -0.21, -0.09, -0.2, -0.19, -0.35, -0.15, -0.1, -0.17, -0.3, -0.14, -0.21, -0.16, -0.04, -0.03, -0.03, 0.11,\n",
    "         0.18, 0.05, 0.07, 0.21, 0.09, -0.07, -0.04, -0.11, -0.11, -0.19, -0.07, 0.01, 0.07, -0.15, -0.14, -0.2, 0.04,\n",
    "         0.07, 0.03, -0.02, 0.06, 0.04, 0.07, -0.2, -0.1, -0.05, -0.02, -0.07, 0.07, 0.03, -0.09, 0.01, 0.16, -0.08, \n",
    "         -0.02, -0.11, 0.17, 0.06, 0.16, 0.27, 0.33, 0.13, 0.31,0.16, 0.12, 0.18, 0.33, 0.41, 0.28, 0.44, 0.41, 0.22,\n",
    "         0.24, 0.31, 0.44, 0.33, 0.47, 0.62, 0.4, 0.4, 0.54, 0.62, 0.61, 0.53, 0.67, 0.62, 0.64, 0.52, 0.63, 0.7, 0.57,\n",
    "         0.61, 0.64, 0.73, 0.86, 0.99, 0.9];\n"
   ]
  },
  {
   "cell_type": "code",
   "execution_count": 33,
   "metadata": {
    "scrolled": true
   },
   "outputs": [
    {
     "data": {
      "text/plain": [
       "[<matplotlib.lines.Line2D at 0x26fa76fa8d0>]"
      ]
     },
     "execution_count": 33,
     "metadata": {},
     "output_type": "execute_result"
    },
    {
     "data": {
      "image/png": "[encoded data removed]",
      "text/plain": [
       "<Figure size 432x288 with 1 Axes>"
      ]
     },
     "metadata": {},
     "output_type": "display_data"
    }
   ],
   "source": [
    "plot(aYear, aTemp);\n",
    "decorate(xlabel='Year', \n",
    "             ylabel='Average Temperature Anomaly (C)',\n",
    "        title='Global Temperature Anomaly from 1880-2017')\n",
    "\n",
    "curve = TimeSeries()\n",
    "for t in linrange (1880, 2017):\n",
    "        curve[t] = (3.3119 * 10 ** -7) * (t ** 3) - 0.0018537 * (t ** 2) + 3.4581 * t - 2150.43\n",
    "        \n",
    "plot(curve)"
   ]
  },
  {
   "cell_type": "code",
   "execution_count": 34,
   "metadata": {},
   "outputs": [],
   "source": [
    "# defines a function for the best fit line for temperature based on year\n",
    "def find_temp(t):\n",
    "    temp = (3.3119 * 10 ** -7) * (t ** 3) - 0.0018537 * (t ** 2) + 3.4581 * t - 2150.45\n",
    "    return temp"
   ]
  },
  {
   "cell_type": "markdown",
   "metadata": {},
   "source": [
    "# Modeling Population Change"
   ]
  },
  {
   "cell_type": "markdown",
   "metadata": {},
   "source": [
    "Our first step is to create the state and system objects."
   ]
  },
  {
   "cell_type": "code",
   "execution_count": 35,
   "metadata": {},
   "outputs": [
    {
     "data": {
      "text/html": [
       "<div>\n",
       "<style scoped>\n",
       "    .dataframe tbody tr th:only-of-type {\n",
       "        vertical-align: middle;\n",
       "    }\n",
       "\n",
       "    .dataframe tbody tr th {\n",
       "        vertical-align: top;\n",
       "    }\n",
       "\n",
       "    .dataframe thead th {\n",
       "        text-align: right;\n",
       "    }\n",
       "</style>\n",
       "<table border=\"1\" class=\"dataframe\">\n",
       "  <thead>\n",
       "    <tr style=\"text-align: right;\">\n",
       "      <th></th>\n",
       "      <th>values</th>\n",
       "    </tr>\n",
       "  </thead>\n",
       "  <tbody>\n",
       "    <tr>\n",
       "      <th>pPop</th>\n",
       "      <td>[22000]</td>\n",
       "    </tr>\n",
       "    <tr>\n",
       "      <th>pYear</th>\n",
       "      <td>1980</td>\n",
       "    </tr>\n",
       "  </tbody>\n",
       "</table>\n",
       "</div>"
      ],
      "text/plain": [
       "pPop     [22000]\n",
       "pYear       1980\n",
       "dtype: object"
      ]
     },
     "execution_count": 35,
     "metadata": {},
     "output_type": "execute_result"
    }
   ],
   "source": [
    "# creates a state object with polar bear population\n",
    "#pYearEnd is set to 2030 to generate a projection later on\n",
    "state = State(pPop = get_first_value(pPopTable),\n",
    "             pYear = get_first_label(pPopTable))"
   ]
  },
  {
   "cell_type": "code",
   "execution_count": 54,
   "metadata": {},
   "outputs": [
    {
     "data": {
      "text/html": [
       "<div>\n",
       "<style scoped>\n",
       "    .dataframe tbody tr th:only-of-type {\n",
       "        vertical-align: middle;\n",
       "    }\n",
       "\n",
       "    .dataframe tbody tr th {\n",
       "        vertical-align: top;\n",
       "    }\n",
       "\n",
       "    .dataframe thead th {\n",
       "        text-align: right;\n",
       "    }\n",
       "</style>\n",
       "<table border=\"1\" class=\"dataframe\">\n",
       "  <thead>\n",
       "    <tr style=\"text-align: right;\">\n",
       "      <th></th>\n",
       "      <th>values</th>\n",
       "    </tr>\n",
       "  </thead>\n",
       "  <tbody>\n",
       "    <tr>\n",
       "      <th>birth_rate</th>\n",
       "      <td>0.027</td>\n",
       "    </tr>\n",
       "    <tr>\n",
       "      <th>death_rate</th>\n",
       "      <td>0.080</td>\n",
       "    </tr>\n",
       "    <tr>\n",
       "      <th>pYearEnd</th>\n",
       "      <td>2100.000</td>\n",
       "    </tr>\n",
       "  </tbody>\n",
       "</table>\n",
       "</div>"
      ],
      "text/plain": [
       "birth_rate       0.027\n",
       "death_rate       0.080\n",
       "pYearEnd      2100.000\n",
       "dtype: float64"
      ]
     },
     "execution_count": 54,
     "metadata": {},
     "output_type": "execute_result"
    }
   ],
   "source": [
    "# system parameters\n",
    "# arbitrary values are used to initialize birth and death rates\n",
    "\n",
    "birth_rate = .027\n",
    "death_rate = .08\n",
    "pYearEnd = 2100\n",
    "\n",
    "system = System(birth_rate = birth_rate, \n",
    "                death_rate = death_rate,\n",
    "               pYearEnd = pYearEnd)"
   ]
  },
  {
   "cell_type": "markdown",
   "metadata": {},
   "source": [
    "The number of births and deaths depends on the interaction between the rate, population and temperature.  Every time we update the population, we add the number of births and subtract the number of deaths."
   ]
  },
  {
   "cell_type": "code",
   "execution_count": 55,
   "metadata": {},
   "outputs": [],
   "source": [
    "def update_func (pPop, t, system):\n",
    "    death_rate_temp = system.death_rate * find_temp(t)\n",
    "    births = system.birth_rate * pPop\n",
    "    deaths = death_rate_temp * pPop\n",
    "    return pPop + births - deaths"
   ]
  },
  {
   "cell_type": "markdown",
   "metadata": {},
   "source": [
    "# Run Simulation"
   ]
  },
  {
   "cell_type": "code",
   "execution_count": 56,
   "metadata": {},
   "outputs": [],
   "source": [
    "def run_simulation(system, update_func):\n",
    "    results = TimeSeries()\n",
    "    results[state.pYear] = state.pPop\n",
    "\n",
    "    for t in linrange (state.pYear, system.pYearEnd):\n",
    "        results[t+1] = update_func(results[t], t, system)\n",
    "        \n",
    "    return results"
   ]
  },
  {
   "cell_type": "markdown",
   "metadata": {},
   "source": [
    "Our simulation goes until the year 2030."
   ]
  },
  {
   "cell_type": "code",
   "execution_count": 57,
   "metadata": {},
   "outputs": [
    {
     "data": {
      "text/html": [
       "<div>\n",
       "<style scoped>\n",
       "    .dataframe tbody tr th:only-of-type {\n",
       "        vertical-align: middle;\n",
       "    }\n",
       "\n",
       "    .dataframe tbody tr th {\n",
       "        vertical-align: top;\n",
       "    }\n",
       "\n",
       "    .dataframe thead th {\n",
       "        text-align: right;\n",
       "    }\n",
       "</style>\n",
       "<table border=\"1\" class=\"dataframe\">\n",
       "  <thead>\n",
       "    <tr style=\"text-align: right;\">\n",
       "      <th></th>\n",
       "      <th>values</th>\n",
       "    </tr>\n",
       "  </thead>\n",
       "  <tbody>\n",
       "    <tr>\n",
       "      <th>1980</th>\n",
       "      <td>[22000]</td>\n",
       "    </tr>\n",
       "    <tr>\n",
       "      <th>1981</th>\n",
       "      <td>[22296.33739519972]</td>\n",
       "    </tr>\n",
       "    <tr>\n",
       "      <th>1982</th>\n",
       "      <td>[22573.917506597583]</td>\n",
       "    </tr>\n",
       "    <tr>\n",
       "      <th>1983</th>\n",
       "      <td>[22831.50746809678]</td>\n",
       "    </tr>\n",
       "    <tr>\n",
       "      <th>1984</th>\n",
       "      <td>[23067.901200402655]</td>\n",
       "    </tr>\n",
       "    <tr>\n",
       "      <th>1985</th>\n",
       "      <td>[23281.926874908782]</td>\n",
       "    </tr>\n",
       "    <tr>\n",
       "      <th>1986</th>\n",
       "      <td>[23472.454553756994]</td>\n",
       "    </tr>\n",
       "    <tr>\n",
       "      <th>1987</th>\n",
       "      <td>[23638.40395373185]</td>\n",
       "    </tr>\n",
       "    <tr>\n",
       "      <th>1988</th>\n",
       "      <td>[23778.752276813684]</td>\n",
       "    </tr>\n",
       "    <tr>\n",
       "      <th>1989</th>\n",
       "      <td>[23892.54204567166]</td>\n",
       "    </tr>\n",
       "    <tr>\n",
       "      <th>1990</th>\n",
       "      <td>[23978.888878157533]</td>\n",
       "    </tr>\n",
       "    <tr>\n",
       "      <th>1991</th>\n",
       "      <td>[24036.989131234153]</td>\n",
       "    </tr>\n",
       "    <tr>\n",
       "      <th>1992</th>\n",
       "      <td>[24066.12734156004]</td>\n",
       "    </tr>\n",
       "    <tr>\n",
       "      <th>1993</th>\n",
       "      <td>[24065.683387508303]</td>\n",
       "    </tr>\n",
       "    <tr>\n",
       "      <th>1994</th>\n",
       "      <td>[24035.139295639336]</td>\n",
       "    </tr>\n",
       "    <tr>\n",
       "      <th>1995</th>\n",
       "      <td>[23974.085613672283]</td>\n",
       "    </tr>\n",
       "    <tr>\n",
       "      <th>1996</th>\n",
       "      <td>[23882.227272009084]</td>\n",
       "    </tr>\n",
       "    <tr>\n",
       "      <th>1997</th>\n",
       "      <td>[23759.388856746667]</td>\n",
       "    </tr>\n",
       "    <tr>\n",
       "      <th>1998</th>\n",
       "      <td>[23605.51921904069]</td>\n",
       "    </tr>\n",
       "    <tr>\n",
       "      <th>1999</th>\n",
       "      <td>[23420.695348687605]</td>\n",
       "    </tr>\n",
       "    <tr>\n",
       "      <th>2000</th>\n",
       "      <td>[23205.12544386025]</td>\n",
       "    </tr>\n",
       "    <tr>\n",
       "      <th>2001</th>\n",
       "      <td>[22959.151114156546]</td>\n",
       "    </tr>\n",
       "    <tr>\n",
       "      <th>2002</th>\n",
       "      <td>[22683.248660382076]</td>\n",
       "    </tr>\n",
       "    <tr>\n",
       "      <th>2003</th>\n",
       "      <td>[22378.02938190772]</td>\n",
       "    </tr>\n",
       "    <tr>\n",
       "      <th>2004</th>\n",
       "      <td>[22044.238870856625]</td>\n",
       "    </tr>\n",
       "    <tr>\n",
       "      <th>2005</th>\n",
       "      <td>[21682.755261834336]</td>\n",
       "    </tr>\n",
       "    <tr>\n",
       "      <th>2006</th>\n",
       "      <td>[21294.586416215443]</td>\n",
       "    </tr>\n",
       "    <tr>\n",
       "      <th>2007</th>\n",
       "      <td>[20880.86603117347]</td>\n",
       "    </tr>\n",
       "    <tr>\n",
       "      <th>2008</th>\n",
       "      <td>[20442.848675453384]</td>\n",
       "    </tr>\n",
       "    <tr>\n",
       "      <th>2009</th>\n",
       "      <td>[19981.903766261228]</td>\n",
       "    </tr>\n",
       "    <tr>\n",
       "      <th>...</th>\n",
       "      <td>...</td>\n",
       "    </tr>\n",
       "    <tr>\n",
       "      <th>2071</th>\n",
       "      <td>[58.149820080811075]</td>\n",
       "    </tr>\n",
       "    <tr>\n",
       "      <th>2072</th>\n",
       "      <td>[48.046230300767476]</td>\n",
       "    </tr>\n",
       "    <tr>\n",
       "      <th>2073</th>\n",
       "      <td>[39.53770813608114]</td>\n",
       "    </tr>\n",
       "    <tr>\n",
       "      <th>2074</th>\n",
       "      <td>[32.402637485709974]</td>\n",
       "    </tr>\n",
       "    <tr>\n",
       "      <th>2075</th>\n",
       "      <td>[26.444845987400214]</td>\n",
       "    </tr>\n",
       "    <tr>\n",
       "      <th>2076</th>\n",
       "      <td>[21.49157659002045]</td>\n",
       "    </tr>\n",
       "    <tr>\n",
       "      <th>2077</th>\n",
       "      <td>[17.39147567337332]</td>\n",
       "    </tr>\n",
       "    <tr>\n",
       "      <th>2078</th>\n",
       "      <td>[14.012625101963643]</td>\n",
       "    </tr>\n",
       "    <tr>\n",
       "      <th>2079</th>\n",
       "      <td>[11.240641061092232]</td>\n",
       "    </tr>\n",
       "    <tr>\n",
       "      <th>2080</th>\n",
       "      <td>[8.976858119206307]</td>\n",
       "    </tr>\n",
       "    <tr>\n",
       "      <th>2081</th>\n",
       "      <td>[7.136612775917293]</td>\n",
       "    </tr>\n",
       "    <tr>\n",
       "      <th>2082</th>\n",
       "      <td>[5.647636860367692]</td>\n",
       "    </tr>\n",
       "    <tr>\n",
       "      <th>2083</th>\n",
       "      <td>[4.448567592876552]</td>\n",
       "    </tr>\n",
       "    <tr>\n",
       "      <th>2084</th>\n",
       "      <td>[3.4875779511413496]</td>\n",
       "    </tr>\n",
       "    <tr>\n",
       "      <th>2085</th>\n",
       "      <td>[2.7211282126650675]</td>\n",
       "    </tr>\n",
       "    <tr>\n",
       "      <th>2086</th>\n",
       "      <td>[2.1128371854649264]</td>\n",
       "    </tr>\n",
       "    <tr>\n",
       "      <th>2087</th>\n",
       "      <td>[1.6324696852184388]</td>\n",
       "    </tr>\n",
       "    <tr>\n",
       "      <th>2088</th>\n",
       "      <td>[1.2550352540388734]</td>\n",
       "    </tr>\n",
       "    <tr>\n",
       "      <th>2089</th>\n",
       "      <td>[0.9599919206518296]</td>\n",
       "    </tr>\n",
       "    <tr>\n",
       "      <th>2090</th>\n",
       "      <td>[0.7305479439709196]</td>\n",
       "    </tr>\n",
       "    <tr>\n",
       "      <th>2091</th>\n",
       "      <td>[0.5530539272535359]</td>\n",
       "    </tr>\n",
       "    <tr>\n",
       "      <th>2092</th>\n",
       "      <td>[0.4164774006377876]</td>\n",
       "    </tr>\n",
       "    <tr>\n",
       "      <th>2093</th>\n",
       "      <td>[0.3119519070908196]</td>\n",
       "    </tr>\n",
       "    <tr>\n",
       "      <th>2094</th>\n",
       "      <td>[0.23239275197452272]</td>\n",
       "    </tr>\n",
       "    <tr>\n",
       "      <th>2095</th>\n",
       "      <td>[0.1721718522388736]</td>\n",
       "    </tr>\n",
       "    <tr>\n",
       "      <th>2096</th>\n",
       "      <td>[0.1268445126820793]</td>\n",
       "    </tr>\n",
       "    <tr>\n",
       "      <th>2097</th>\n",
       "      <td>[0.0929214317867996]</td>\n",
       "    </tr>\n",
       "    <tr>\n",
       "      <th>2098</th>\n",
       "      <td>[0.06767976989193582]</td>\n",
       "    </tr>\n",
       "    <tr>\n",
       "      <th>2099</th>\n",
       "      <td>[0.04900767322800831]</td>\n",
       "    </tr>\n",
       "    <tr>\n",
       "      <th>2100</th>\n",
       "      <td>[0.03527721786156904]</td>\n",
       "    </tr>\n",
       "  </tbody>\n",
       "</table>\n",
       "<p>121 rows × 1 columns</p>\n",
       "</div>"
      ],
      "text/plain": [
       "1980                  [22000]\n",
       "1981      [22296.33739519972]\n",
       "1982     [22573.917506597583]\n",
       "1983      [22831.50746809678]\n",
       "1984     [23067.901200402655]\n",
       "1985     [23281.926874908782]\n",
       "1986     [23472.454553756994]\n",
       "1987      [23638.40395373185]\n",
       "1988     [23778.752276813684]\n",
       "1989      [23892.54204567166]\n",
       "1990     [23978.888878157533]\n",
       "1991     [24036.989131234153]\n",
       "1992      [24066.12734156004]\n",
       "1993     [24065.683387508303]\n",
       "1994     [24035.139295639336]\n",
       "1995     [23974.085613672283]\n",
       "1996     [23882.227272009084]\n",
       "1997     [23759.388856746667]\n",
       "1998      [23605.51921904069]\n",
       "1999     [23420.695348687605]\n",
       "2000      [23205.12544386025]\n",
       "2001     [22959.151114156546]\n",
       "2002     [22683.248660382076]\n",
       "2003      [22378.02938190772]\n",
       "2004     [22044.238870856625]\n",
       "2005     [21682.755261834336]\n",
       "2006     [21294.586416215443]\n",
       "2007      [20880.86603117347]\n",
       "2008     [20442.848675453384]\n",
       "2009     [19981.903766261228]\n",
       "                ...          \n",
       "2071     [58.149820080811075]\n",
       "2072     [48.046230300767476]\n",
       "2073      [39.53770813608114]\n",
       "2074     [32.402637485709974]\n",
       "2075     [26.444845987400214]\n",
       "2076      [21.49157659002045]\n",
       "2077      [17.39147567337332]\n",
       "2078     [14.012625101963643]\n",
       "2079     [11.240641061092232]\n",
       "2080      [8.976858119206307]\n",
       "2081      [7.136612775917293]\n",
       "2082      [5.647636860367692]\n",
       "2083      [4.448567592876552]\n",
       "2084     [3.4875779511413496]\n",
       "2085     [2.7211282126650675]\n",
       "2086     [2.1128371854649264]\n",
       "2087     [1.6324696852184388]\n",
       "2088     [1.2550352540388734]\n",
       "2089     [0.9599919206518296]\n",
       "2090     [0.7305479439709196]\n",
       "2091     [0.5530539272535359]\n",
       "2092     [0.4164774006377876]\n",
       "2093     [0.3119519070908196]\n",
       "2094    [0.23239275197452272]\n",
       "2095     [0.1721718522388736]\n",
       "2096     [0.1268445126820793]\n",
       "2097     [0.0929214317867996]\n",
       "2098    [0.06767976989193582]\n",
       "2099    [0.04900767322800831]\n",
       "2100    [0.03527721786156904]\n",
       "Length: 121, dtype: object"
      ]
     },
     "execution_count": 57,
     "metadata": {},
     "output_type": "execute_result"
    }
   ],
   "source": [
    "results = run_simulation(system, update_func)\n"
   ]
  },
  {
   "cell_type": "code",
   "execution_count": 58,
   "metadata": {},
   "outputs": [
    {
     "data": {
      "image/png": "[encoded data removed]",
      "text/plain": [
       "<Figure size 432x288 with 1 Axes>"
      ]
     },
     "metadata": {},
     "output_type": "display_data"
    }
   ],
   "source": [
    "plot(results)\n",
    "plot(year, pop)\n",
    "\n",
    "decorate(xlabel='Year', \n",
    "             ylabel='Polar Bear Population',\n",
    "        title='Projection of Polar Bear Population')"
   ]
  }
 ],
 "metadata": {
  "kernelspec": {
   "display_name": "Python 3",
   "language": "python",
   "name": "python3"
  },
  "language_info": {
   "codemirror_mode": {
    "name": "ipython",
    "version": 3
   },
   "file_extension": ".py",
   "mimetype": "text/x-python",
   "name": "python",
   "nbconvert_exporter": "python",
   "pygments_lexer": "ipython3",
   "version": "3.6.6"
  }
 },
 "nbformat": 4,
 "nbformat_minor": 2
}
